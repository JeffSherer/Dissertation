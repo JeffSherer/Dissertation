{
 "cells": [
  {
   "cell_type": "code",
   "execution_count": 1,
   "metadata": {},
   "outputs": [
    {
     "name": "stdout",
     "output_type": "stream",
     "text": [
      "[{'img_id': 1, 'img_name': 'xmlab1/source.jpg', 'question': 'What modality is used to take this image?', 'answer': 'MRI', 'q_lang': 'en', 'location': 'Abdomen', 'modality': 'MRI', 'answer_type': 'OPEN', 'base_type': 'vqa', 'content_type': 'Modality', 'triple': ['vhead', '_', '_'], 'qid': 0}, {'img_id': 1, 'img_name': 'xmlab1/source.jpg', 'question': 'Which part of the body does this image belong to?', 'answer': 'Abdomen', 'q_lang': 'en', 'location': 'Abdomen', 'modality': 'MRI', 'answer_type': 'OPEN', 'base_type': 'vqa', 'content_type': 'Position', 'triple': ['vhead', '_', '_'], 'qid': 1}, {'img_id': 1, 'img_name': 'xmlab1/source.jpg', 'question': 'What is the mr weighting in this image?', 'answer': 'T2', 'q_lang': 'en', 'location': 'Abdomen', 'modality': 'MRI', 'answer_type': 'OPEN', 'base_type': 'vqa', 'content_type': 'Modality', 'triple': ['vhead', '_', '_'], 'qid': 2}]\n"
     ]
    }
   ],
   "source": [
    "import json\n",
    "\n",
    "# Path to the original train.json file\n",
    "train_json_path = '/Users/jeffreysherer/Desktop/Dissertation/Slake1.0/train.json'\n",
    "\n",
    "# Load the train.json file\n",
    "with open(train_json_path, 'r') as file:\n",
    "    train_data = json.load(file)\n",
    "\n",
    "# Display the first few entries to verify the content\n",
    "print(train_data[:3])  # Adjust the number of entries to display based on your need\n"
   ]
  },
  {
   "cell_type": "code",
   "execution_count": 2,
   "metadata": {},
   "outputs": [
    {
     "name": "stdout",
     "output_type": "stream",
     "text": [
      "[{'Liver': [54.0, 106.0, 30.0, 31.0]}]\n"
     ]
    }
   ],
   "source": [
    "import os\n",
    "\n",
    "def load_detection_json(img_folder):\n",
    "    # Path to the folder containing detection.json\n",
    "    detection_json_path = os.path.join('/Users/jeffreysherer/Dissertation/data/imgs-1', img_folder, 'detection.json')\n",
    "    \n",
    "    # Load the detection.json file\n",
    "    if os.path.exists(detection_json_path):\n",
    "        with open(detection_json_path, 'r') as file:\n",
    "            detection_data = json.load(file)\n",
    "        return detection_data\n",
    "    else:\n",
    "        return None  # Return None if file does not exist\n",
    "\n",
    "# Test the function with an example folder\n",
    "example_folder = 'xmlab1'\n",
    "example_detection = load_detection_json(example_folder)\n",
    "print(example_detection)  # Display the content of the detection.json for verification\n"
   ]
  },
  {
   "cell_type": "code",
   "execution_count": 3,
   "metadata": {},
   "outputs": [
    {
     "name": "stdout",
     "output_type": "stream",
     "text": [
      "[{'img_id': 1, 'img_name': 'xmlab1/source.jpg', 'question': 'What modality is used to take this image?', 'answer': 'MRI', 'q_lang': 'en', 'location': 'Abdomen', 'modality': 'MRI', 'answer_type': 'OPEN', 'base_type': 'vqa', 'content_type': 'Modality', 'triple': ['vhead', '_', '_'], 'qid': 0, 'detection': [{'Liver': [54.0, 106.0, 30.0, 31.0]}]}, {'img_id': 1, 'img_name': 'xmlab1/source.jpg', 'question': 'Which part of the body does this image belong to?', 'answer': 'Abdomen', 'q_lang': 'en', 'location': 'Abdomen', 'modality': 'MRI', 'answer_type': 'OPEN', 'base_type': 'vqa', 'content_type': 'Position', 'triple': ['vhead', '_', '_'], 'qid': 1, 'detection': [{'Liver': [54.0, 106.0, 30.0, 31.0]}]}, {'img_id': 1, 'img_name': 'xmlab1/source.jpg', 'question': 'What is the mr weighting in this image?', 'answer': 'T2', 'q_lang': 'en', 'location': 'Abdomen', 'modality': 'MRI', 'answer_type': 'OPEN', 'base_type': 'vqa', 'content_type': 'Modality', 'triple': ['vhead', '_', '_'], 'qid': 2, 'detection': [{'Liver': [54.0, 106.0, 30.0, 31.0]}]}]\n"
     ]
    }
   ],
   "source": [
    "# Function to add detection data to train_data entries\n",
    "def integrate_detection_data(train_data):\n",
    "    for item in train_data:\n",
    "        # Extract the folder name from img_name\n",
    "        folder_name = item['img_name'].split('/')[0]\n",
    "        \n",
    "        # Load detection data for the corresponding folder\n",
    "        detection_data = load_detection_json(folder_name)\n",
    "        \n",
    "        # If detection data exists, add it to the train data item\n",
    "        if detection_data:\n",
    "            item['detection'] = detection_data\n",
    "    \n",
    "    return train_data\n",
    "\n",
    "# Update train_data with detection information\n",
    "updated_train_data = integrate_detection_data(train_data)\n",
    "\n",
    "# Print a few updated entries to verify that detection data has been added correctly\n",
    "print(updated_train_data[:3])  # Adjust the number of entries to display based on your need\n"
   ]
  },
  {
   "cell_type": "code",
   "execution_count": 4,
   "metadata": {},
   "outputs": [
    {
     "name": "stdout",
     "output_type": "stream",
     "text": [
      "Updated train.json has been saved to /Users/jeffreysherer/Desktop/Dissertation/Slake1.0/augmented/updated_train.json\n"
     ]
    }
   ],
   "source": [
    "import os\n",
    "import json\n",
    "\n",
    "# Base path where the original train.json is located\n",
    "base_path = '/Users/jeffreysherer/Desktop/Dissertation/Slake1.0'\n",
    "\n",
    "# Directory for the augmented files\n",
    "augmented_dir = os.path.join(base_path, 'augmented')\n",
    "\n",
    "# Create the augmented directory if it doesn't exist\n",
    "if not os.path.exists(augmented_dir):\n",
    "    os.makedirs(augmented_dir)\n",
    "\n",
    "# Path to save the updated train.json file\n",
    "updated_train_json_path = os.path.join(augmented_dir, 'updated_train.json')\n",
    "\n",
    "# Write the updated train data to the new JSON file in the augmented directory\n",
    "with open(updated_train_json_path, 'w') as file:\n",
    "    json.dump(updated_train_data, file, indent=4)\n",
    "\n",
    "print(\"Updated train.json has been saved to\", updated_train_json_path)\n"
   ]
  },
  {
   "cell_type": "code",
   "execution_count": 11,
   "metadata": {},
   "outputs": [
    {
     "name": "stdout",
     "output_type": "stream",
     "text": [
      "Corrected train.json has been saved to /Users/jeffreysherer/Desktop/Dissertation/Slake1.0/augmented/BBF_train.json\n"
     ]
    }
   ],
   "source": [
    "import json\n",
    "\n",
    "# Load the augmented train.json file\n",
    "augmented_train_json_path = '/Users/jeffreysherer/Desktop/Dissertation/Slake1.0/augmented/updated_train.json'\n",
    "\n",
    "try:\n",
    "    with open(augmented_train_json_path, 'r') as file:\n",
    "        data = json.load(file)\n",
    "\n",
    "    # Reorder the dictionary so that 'detection' comes right before 'answer'\n",
    "    new_data = []\n",
    "    for entry in data:\n",
    "        if 'detection' in entry:\n",
    "            ordered_entry = {key: entry[key] for key in entry if key != 'answer'}\n",
    "            ordered_entry['answer'] = entry['answer']\n",
    "            new_data.append(ordered_entry)\n",
    "        else:\n",
    "            new_data.append(entry)\n",
    "\n",
    "    # Path to save the corrected JSON file\n",
    "    corrected_json_path = '/Users/jeffreysherer/Desktop/Dissertation/Slake1.0/augmented/BBF_train.json'\n",
    "\n",
    "    # Write the corrected data to a new JSON file\n",
    "    with open(corrected_json_path, 'w') as file:\n",
    "        json.dump(new_data, file, indent=4)\n",
    "\n",
    "    print(\"Corrected train.json has been saved to\", corrected_json_path)\n",
    "\n",
    "except Exception as e:\n",
    "    print(\"Error reading or processing the file:\", str(e))\n"
   ]
  },
  {
   "cell_type": "code",
   "execution_count": 12,
   "metadata": {},
   "outputs": [
    {
     "name": "stdout",
     "output_type": "stream",
     "text": [
      "{'img_id': 205, 'img_name': 'xmlab205/source.jpg', 'question': 'Does the picture contain heart?', 'answer': 'Yes', 'q_lang': 'en', 'location': 'Chest_heart', 'modality': 'CT', 'answer_type': 'CLOSED', 'base_type': 'vqa', 'content_type': 'Organ', 'triple': ['vhead', '_', '_'], 'qid': 758}\n",
      "{'img_id': 268, 'img_name': 'xmlab268/source.jpg', 'question': '图片中包含哪些疾病?', 'q_lang': 'zh', 'location': 'Abdomen', 'modality': 'CT', 'answer_type': 'OPEN', 'base_type': 'vqa', 'triple': ['vhead', '_', '_'], 'qid': 6379, 'content_type': 'Abnormality', 'detection': [{'Liver': [85.0, 133.0, 174.0, 128.0]}, {'Liver Cancer': [240.0, 149.0, 13.0, 16.0]}, {'Liver Cancer': [181.0, 174.0, 12.0, 11.0]}], 'answer': '肝癌'}\n",
      "{'img_id': 271, 'img_name': 'xmlab271/source.jpg', 'question': 'Does this image look normal?', 'q_lang': 'en', 'location': 'Abdomen', 'modality': 'CT', 'answer_type': 'CLOSED', 'base_type': 'vqa', 'content_type': 'Abnormality', 'triple': ['vhead', '_', '_'], 'qid': 1470, 'detection': [{'Liver': [58.0, 177.0, 86.0, 155.0]}, {'Liver Cancer': [86.0, 265.0, 31.0, 33.0]}], 'answer': 'No'}\n",
      "{'img_id': 413, 'img_name': 'xmlab413/source.jpg', 'question': 'Does the stomach appear in the image?', 'q_lang': 'en', 'location': 'Brain_Face', 'modality': 'CT', 'answer_type': 'CLOSED', 'base_type': 'vqa', 'content_type': 'Organ', 'triple': ['vhead', '_', '_'], 'qid': 3054, 'detection': [{'Tooth': [214.0, 137.0, 48.0, 22.0]}, {'Spinal Cord': [233.0, 239.0, 15.0, 13.0]}, {'Left Mandible': [261.0, 168.0, 33.0, 48.0]}, {'Right Mandible': [180.0, 169.0, 35.0, 46.0]}, {'Left Parotid': [282.0, 206.0, 29.0, 34.0]}, {'Right Parotid': [169.0, 210.0, 22.0, 32.0]}], 'answer': 'No'}\n",
      "{'img_id': 526, 'img_name': 'xmlab526/source.jpg', 'question': 'What is the scanning plane of this image?', 'q_lang': 'en', 'location': 'Brain_Tissue', 'modality': 'MRI', 'answer_type': 'OPEN', 'base_type': 'vqa', 'content_type': 'Plane', 'triple': ['vhead', '_', '_'], 'qid': 3825, 'detection': [{'Brain Edema': [133.0, 88.0, 41.0, 49.0]}, {'Brain Non-enhancing Tumor': [144.0, 95.0, 28.0, 34.0]}], 'answer': 'Transverse Plane'}\n"
     ]
    }
   ],
   "source": [
    "import json\n",
    "import random\n",
    "\n",
    "# Path to the corrected train.json file\n",
    "corrected_train_json_path = '/Users/jeffreysherer/Desktop/Dissertation/Slake1.0/augmented/BBF_train.json'\n",
    "\n",
    "# Load the corrected train.json file\n",
    "with open(corrected_train_json_path, 'r') as file:\n",
    "    corrected_data = json.load(file)\n",
    "\n",
    "# Randomly sample 5 entries from the dataset to inspect\n",
    "sampled_entries = random.sample(corrected_data, 5)\n",
    "\n",
    "# Print the sampled entries\n",
    "for entry in sampled_entries:\n",
    "    print(entry)\n"
   ]
  },
  {
   "cell_type": "markdown",
   "metadata": {},
   "source": [
    "Now doing the trst adn validate json files\n"
   ]
  },
  {
   "cell_type": "code",
   "execution_count": 13,
   "metadata": {},
   "outputs": [
    {
     "name": "stdout",
     "output_type": "stream",
     "text": [
      "[{'img_id': 0, 'img_name': 'xmlab0/source.jpg', 'question': 'What modality is used to take this image?', 'answer': 'MRI', 'q_lang': 'en', 'location': 'Abdomen', 'modality': 'MRI', 'answer_type': 'OPEN', 'base_type': 'vqa', 'content_type': 'Modality', 'triple': ['vhead', '_', '_'], 'qid': 9835}, {'img_id': 0, 'img_name': 'xmlab0/source.jpg', 'question': 'Which part of the body does this image belong to?', 'answer': 'Abdomen', 'q_lang': 'en', 'location': 'Abdomen', 'modality': 'MRI', 'answer_type': 'OPEN', 'base_type': 'vqa', 'content_type': 'Position', 'triple': ['vhead', '_', '_'], 'qid': 9836}, {'img_id': 0, 'img_name': 'xmlab0/source.jpg', 'question': 'What is the mr weighting in this image?', 'answer': 'T2', 'q_lang': 'en', 'location': 'Abdomen', 'modality': 'MRI', 'answer_type': 'OPEN', 'base_type': 'vqa', 'content_type': 'Modality', 'triple': ['vhead', '_', '_'], 'qid': 9837}]\n",
      "[{'img_id': 102, 'img_name': 'xmlab102/source.jpg', 'question': 'What modality is used to take this image?', 'answer': 'CT', 'q_lang': 'en', 'location': 'Lung', 'modality': 'CT', 'answer_type': 'OPEN', 'base_type': 'vqa', 'triple': ['vhead', '_', '_'], 'qid': 11934, 'content_type': 'Modality'}, {'img_id': 102, 'img_name': 'xmlab102/source.jpg', 'question': 'Which part of the body does this image belong to?', 'answer': 'Chest', 'q_lang': 'en', 'location': 'Lung', 'modality': 'CT', 'answer_type': 'OPEN', 'base_type': 'vqa', 'triple': ['vhead', '_', '_'], 'qid': 11935, 'content_type': 'Position'}, {'img_id': 102, 'img_name': 'xmlab102/source.jpg', 'question': 'What is the main organ in the image?', 'answer': 'Lung, Spinal Cord', 'q_lang': 'en', 'location': 'Lung', 'modality': 'CT', 'answer_type': 'OPEN', 'base_type': 'vqa', 'triple': ['vhead', '_', '_'], 'qid': 11936, 'content_type': 'Organ'}]\n"
     ]
    }
   ],
   "source": [
    "import json\n",
    "import os\n",
    "\n",
    "# Paths to the original validate.json and test.json files\n",
    "validate_json_path = '/Users/jeffreysherer/Desktop/Dissertation/Slake1.0/validate.json'\n",
    "test_json_path = '/Users/jeffreysherer/Desktop/Dissertation/Slake1.0/test.json'\n",
    "\n",
    "# Load the validate.json file\n",
    "with open(validate_json_path, 'r') as file:\n",
    "    validate_data = json.load(file)\n",
    "\n",
    "# Load the test.json file\n",
    "with open(test_json_path, 'r') as file:\n",
    "    test_data = json.load(file)\n",
    "\n",
    "# Display the first few entries to verify the content\n",
    "print(validate_data[:3])  # Adjust the number of entries to display based on your need\n",
    "print(test_data[:3])  # Adjust the number of entries to display based on your need\n"
   ]
  },
  {
   "cell_type": "code",
   "execution_count": 14,
   "metadata": {},
   "outputs": [],
   "source": [
    "# Directory containing the image folders with detection.json files\n",
    "image_directory = '/Users/jeffreysherer/Dissertation/data/imgs-1'\n",
    "\n",
    "# Function to update the data with bounding box coordinates\n",
    "def update_data_with_bounding_boxes(data):\n",
    "    for entry in data:\n",
    "        img_folder = os.path.dirname(entry['img_name'])\n",
    "        detection_json_path = os.path.join(image_directory, img_folder, 'detection.json')\n",
    "        \n",
    "        if os.path.exists(detection_json_path):\n",
    "            with open(detection_json_path, 'r') as file:\n",
    "                detection_data = json.load(file)\n",
    "            entry['detection'] = detection_data\n",
    "\n",
    "    return data\n",
    "\n",
    "# Update the validate and test data\n",
    "updated_validate_data = update_data_with_bounding_boxes(validate_data)\n",
    "updated_test_data = update_data_with_bounding_boxes(test_data)\n"
   ]
  },
  {
   "cell_type": "code",
   "execution_count": 15,
   "metadata": {},
   "outputs": [
    {
     "name": "stdout",
     "output_type": "stream",
     "text": [
      "Updated validate.json has been saved to /Users/jeffreysherer/Desktop/Dissertation/Slake1.0/augmented/BBF_validate.json\n",
      "Updated test.json has been saved to /Users/jeffreysherer/Desktop/Dissertation/Slake1.0/augmented/BBF_test.json\n"
     ]
    }
   ],
   "source": [
    "# Paths to save the updated validate and test JSON files\n",
    "augmented_folder = '/Users/jeffreysherer/Desktop/Dissertation/Slake1.0/augmented'\n",
    "updated_validate_json_path = os.path.join(augmented_folder, 'BBF_validate.json')\n",
    "updated_test_json_path = os.path.join(augmented_folder, 'BBF_test.json')\n",
    "\n",
    "# Ensure the augmented folder exists\n",
    "os.makedirs(augmented_folder, exist_ok=True)\n",
    "\n",
    "# Write the updated validate data to a new JSON file\n",
    "with open(updated_validate_json_path, 'w') as file:\n",
    "    json.dump(updated_validate_data, file, indent=4)\n",
    "\n",
    "# Write the updated test data to a new JSON file\n",
    "with open(updated_test_json_path, 'w') as file:\n",
    "    json.dump(updated_test_data, file, indent=4)\n",
    "\n",
    "print(\"Updated validate.json has been saved to\", updated_validate_json_path)\n",
    "print(\"Updated test.json has been saved to\", updated_test_json_path)\n"
   ]
  }
 ],
 "metadata": {
  "kernelspec": {
   "display_name": "Python 3",
   "language": "python",
   "name": "python3"
  },
  "language_info": {
   "codemirror_mode": {
    "name": "ipython",
    "version": 3
   },
   "file_extension": ".py",
   "mimetype": "text/x-python",
   "name": "python",
   "nbconvert_exporter": "python",
   "pygments_lexer": "ipython3",
   "version": "3.11.3"
  }
 },
 "nbformat": 4,
 "nbformat_minor": 2
}
